{
 "cells": [
  {
   "cell_type": "code",
   "execution_count": 123,
   "id": "9a36917e",
   "metadata": {},
   "outputs": [
    {
     "name": "stdout",
     "output_type": "stream",
     "text": [
      "1.3938398699636136e-15 from theoretical expression\n"
     ]
    }
   ],
   "source": [
    "import numpy as np\n",
    "\n",
    "# Constants\n",
    "AU = 1.496e13 #cm\n",
    "c = 2.998e10 #cm/s\n",
    "pc = 3.08e18 #cm\n",
    "dist = 140.0 #pc\n",
    "\n",
    "# Line particulars for H2 S(9)\n",
    "Aval = 4.991e-7 #Einstein coefficient\n",
    "T_upper = 10261.792 #Kelvin\n",
    "nu_line = 6.390457e4 *1e9\n",
    "g_upper = 79.0\n",
    "dE = 6.626e-27*nu_line\n",
    "\n",
    "# Files\n",
    "def import_lines_from_file(file_path, start_line, end_line):\n",
    "    extracted_lines = []\n",
    "    with open(file_path, 'r') as file:\n",
    "        for current_line_number, line in enumerate(file, start=1):\n",
    "            if start_line <= current_line_number <= end_line:\n",
    "                extracted_lines.append(line.rstrip()) \n",
    "            elif current_line_number > end_line:\n",
    "                break\n",
    "    vals = []\n",
    "    for line in extracted_lines:\n",
    "        parts = line.strip().split()\n",
    "        vals.append([float(part) for part in parts])\n",
    "    return vals\n",
    "levels = np.array(import_lines_from_file('molecule_h2.inp', 8, 325))\n",
    "\n",
    "grid = np.loadtxt('amr_grid.inp', skiprows=6)\n",
    "nx, ny, nz = int((len(grid)-3)/3), int((len(grid)-3)/3), int((len(grid)-3)/3)\n",
    "\n",
    "temp = np.loadtxt('gas_temperature.inp',skiprows=2)\n",
    "temp = temp.reshape((nx,ny,nz), order='F')\n",
    "\n",
    "numberdens = np.loadtxt('numberdens_h2.inp', skiprows=2)\n",
    "numberdens = numberdens.reshape((nx,ny,nz), order='F')\n",
    "\n",
    "# Partition function\n",
    "def partitionfcn(mol_levels, t):\n",
    "    n = mol_levels[:,0]\n",
    "    e = mol_levels[:,1]\n",
    "    g = mol_levels[:,2]\n",
    "    nl = np.size(n)\n",
    "    zt = 0\n",
    "    for i in range(0,nl):\n",
    "        zt += g[i]*np.exp(-e[i]*1.43873/t)\n",
    "    return zt\n",
    "\n",
    "# Grid definition\n",
    "x = grid[0:nx+1]\n",
    "y = grid[nx+1:nx+ny+2]\n",
    "z = grid[nx+ny+2:nx+ny+nz+3]\n",
    "\n",
    "# Flux calculation\n",
    "flux = 0\n",
    "for i in range(0, nx):\n",
    "    for j in range(0, ny):\n",
    "        for k in range(0, nz):\n",
    "            Z = partitionfcn(levels, temp[i,j,k])\n",
    "            n_upper = numberdens[i,j,k]*(g_upper/Z)*np.exp(-T_upper/temp[i,j,k])\n",
    "            dV = (x[i+1]-x[i])*(y[j+1]-y[j])*(z[k+1]-z[k])\n",
    "            flux += n_upper*Aval*dE*dV/(4*np.pi*(dist*pc)**2)\n",
    "print(flux,'from theoretical expression')"
   ]
  },
  {
   "cell_type": "code",
   "execution_count": 124,
   "id": "0f81ba33",
   "metadata": {},
   "outputs": [
    {
     "name": "stdout",
     "output_type": "stream",
     "text": [
      "2.2947351539462883e-14  From RADMC model\n"
     ]
    }
   ],
   "source": [
    "import matplotlib.pyplot as plt\n",
    "f=np.loadtxt('spectrum.out',skiprows=3)\n",
    "#lam is in microns and flux is in erg/cm2/s/Hz at 1pc distance\n",
    "lam=f[:,0]*1e-4\n",
    "flux=f[:,1]/dist**2\n",
    "plt.plot(lam,flux)\n",
    "# dnu = dlam * c/lam^2\n",
    "dlam=np.diff(lam)\n",
    "dlam=np.insert(dlam,0,dlam[0])\n",
    "dnu = dlam * c/(lam**2)\n",
    "print(np.sum(dnu*flux),' From RADMC model')\n",
    "plt.savefig('spec.png')\n",
    "plt.close()"
   ]
  },
  {
   "cell_type": "code",
   "execution_count": null,
   "id": "45144879",
   "metadata": {},
   "outputs": [],
   "source": []
  }
 ],
 "metadata": {
  "kernelspec": {
   "display_name": "Python 3 (ipykernel)",
   "language": "python",
   "name": "python3"
  },
  "language_info": {
   "codemirror_mode": {
    "name": "ipython",
    "version": 3
   },
   "file_extension": ".py",
   "mimetype": "text/x-python",
   "name": "python",
   "nbconvert_exporter": "python",
   "pygments_lexer": "ipython3",
   "version": "3.10.12"
  }
 },
 "nbformat": 4,
 "nbformat_minor": 5
}
