{
 "cells": [
  {
   "cell_type": "code",
   "execution_count": 1,
   "id": "e429bb92-102e-4f36-986f-73c1ab1fb5c2",
   "metadata": {},
   "outputs": [
    {
     "name": "stdout",
     "output_type": "stream",
     "text": [
      "Reading image.out\n"
     ]
    }
   ],
   "source": [
    "import matplotlib\n",
    "from radmc3dPy.image import *\n",
    "from parameters import *\n",
    "import matplotlib.pyplot as plt\n",
    "from matplotlib import cm\n",
    "import matplotlib.pylab as plb\n",
    "from generateimage import *\n",
    "\n",
    "# os.system('python3 master.py')\n",
    "# os.system('python3 problem_setup.py')\n",
    "# os.system('radmc3d mctherm setthreads 4')\n",
    "\n",
    "# os.system('radmc3d image lambda 4.69125225 incl 85 phi 0 zoomau -210 210 14 252 npixx 30 npixy 17')\n",
    "img_online = readImage()\n",
    "image_data_online = img_online.image.flatten()  # units of ergs/s/cm^2/Hz/ster"
   ]
  },
  {
   "cell_type": "code",
   "execution_count": 2,
   "id": "00dd8898-9afe-43b1-826f-25b0d492c74a",
   "metadata": {},
   "outputs": [
    {
     "name": "stdout",
     "output_type": "stream",
     "text": [
      "Reading image.out\n"
     ]
    }
   ],
   "source": [
    "#os.system('radmc3d image lambda 4.6 incl 85 phi 0 zoomau -210 210 14 252 npixx 30 npixy 17')\n",
    "img_offline = readImage()\n",
    "image_data_offline = img_offline.image.flatten()  # units of ergs/s/cm^2/Hz/ster"
   ]
  },
  {
   "cell_type": "code",
   "execution_count": 4,
   "id": "4bb51a78-a7ea-44d6-bb9d-b1f110de7d05",
   "metadata": {},
   "outputs": [],
   "source": [
    "#img = img_online - img_offline\n",
    "image_data = (image_data_online) - (image_data_offline)"
   ]
  },
  {
   "cell_type": "code",
   "execution_count": null,
   "id": "66659e01-4ce1-400f-b941-c9f5bc278418",
   "metadata": {},
   "outputs": [],
   "source": [
    "dist_pc = distance #from parameters.py, in pc\n",
    "c = 3e10 #cm/s\n",
    "line_peak = wavelength # from parameters.py, in um\n",
    "conversion_factor = (img.sizepix_x*img.sizepix_y)/((dist_pc*pc)**2) # ergs/s/cm^2/Hz/ster to ergs/s/cm^2/Hz/pixel\n",
    "total_flux = np.sum(image_data)/(line_peak)*(c/(line_peak*1e-4))*conversion_factor # ergs/s/cm^2\n",
    "total_flux = f\"{total_flux:.2e}\"\n",
    "\n",
    "result = plotImage2(img, flux=total_flux, log=True, maxlog=max_log, cmap=cm.hot, bunit='norm', dpc=dist_pc, arcsec=True)\n",
    "\n",
    "plt.savefig('output.png')\n",
    "plt.close()"
   ]
  }
 ],
 "metadata": {
  "kernelspec": {
   "display_name": "Python 3 (ipykernel)",
   "language": "python",
   "name": "python3"
  },
  "language_info": {
   "codemirror_mode": {
    "name": "ipython",
    "version": 3
   },
   "file_extension": ".py",
   "mimetype": "text/x-python",
   "name": "python",
   "nbconvert_exporter": "python",
   "pygments_lexer": "ipython3",
   "version": "3.10.12"
  }
 },
 "nbformat": 4,
 "nbformat_minor": 5
}
