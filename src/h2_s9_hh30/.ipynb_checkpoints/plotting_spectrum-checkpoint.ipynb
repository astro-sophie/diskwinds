{
 "cells": [
  {
   "cell_type": "code",
   "execution_count": 15,
   "id": "46efa2ee",
   "metadata": {},
   "outputs": [],
   "source": [
    "import numpy as np\n",
    "import matplotlib.pyplot as plt"
   ]
  },
  {
   "cell_type": "code",
   "execution_count": 26,
   "id": "009e0352",
   "metadata": {},
   "outputs": [],
   "source": [
    "data = np.loadtxt(\"spectrum.out\", skiprows = 3)"
   ]
  },
  {
   "cell_type": "code",
   "execution_count": 27,
   "id": "31f05db9",
   "metadata": {},
   "outputs": [
    {
     "data": {
      "text/plain": [
       "array([[4.69046997e+00, 3.29680298e-20],\n",
       "       [4.69048577e+00, 3.29678415e-20],\n",
       "       [4.69050157e+00, 3.29676532e-20],\n",
       "       [4.69051737e+00, 3.29674649e-20],\n",
       "       [4.69053317e+00, 3.29672766e-20],\n",
       "       [4.69054897e+00, 3.29670883e-20],\n",
       "       [4.69056478e+00, 3.29669000e-20],\n",
       "       [4.69058058e+00, 3.29667117e-20],\n",
       "       [4.69059638e+00, 3.29665234e-20],\n",
       "       [4.69061218e+00, 3.29663352e-20],\n",
       "       [4.69062798e+00, 3.29661469e-20],\n",
       "       [4.69064379e+00, 3.29659586e-20],\n",
       "       [4.69065959e+00, 3.29657703e-20],\n",
       "       [4.69067539e+00, 3.29655820e-20],\n",
       "       [4.69069119e+00, 3.29653937e-20],\n",
       "       [4.69070700e+00, 3.29652054e-20],\n",
       "       [4.69072280e+00, 3.29650171e-20],\n",
       "       [4.69073860e+00, 3.29648289e-20],\n",
       "       [4.69075440e+00, 3.29646406e-20],\n",
       "       [4.69077021e+00, 3.29644523e-20],\n",
       "       [4.69078601e+00, 3.29642640e-20],\n",
       "       [4.69080181e+00, 3.29640757e-20],\n",
       "       [4.69081762e+00, 3.29638874e-20],\n",
       "       [4.69083342e+00, 3.29636991e-20],\n",
       "       [4.69084922e+00, 3.29635109e-20],\n",
       "       [4.69086503e+00, 3.29633226e-20],\n",
       "       [4.69088083e+00, 3.29631343e-20],\n",
       "       [4.69089664e+00, 3.29629460e-20],\n",
       "       [4.69091244e+00, 3.29627577e-20],\n",
       "       [4.69092824e+00, 3.29625694e-20],\n",
       "       [4.69094405e+00, 3.29623812e-20],\n",
       "       [4.69095985e+00, 3.29621929e-20],\n",
       "       [4.69097566e+00, 3.29620046e-20],\n",
       "       [4.69099146e+00, 3.29618163e-20],\n",
       "       [4.69100727e+00, 3.29616281e-20],\n",
       "       [4.69102307e+00, 3.29614399e-20],\n",
       "       [4.69103888e+00, 3.29612521e-20],\n",
       "       [4.69105468e+00, 3.29610659e-20],\n",
       "       [4.69107049e+00, 3.29608849e-20],\n",
       "       [4.69108629e+00, 3.29607203e-20],\n",
       "       [4.69110210e+00, 3.29605995e-20],\n",
       "       [4.69111790e+00, 3.29605826e-20],\n",
       "       [4.69113371e+00, 3.29607794e-20],\n",
       "       [4.69114951e+00, 3.29613550e-20],\n",
       "       [4.69116532e+00, 3.29624978e-20],\n",
       "       [4.69118113e+00, 3.29643312e-20],\n",
       "       [4.69119693e+00, 3.29667858e-20],\n",
       "       [4.69121274e+00, 3.29695019e-20],\n",
       "       [4.69122854e+00, 3.29718572e-20],\n",
       "       [4.69124435e+00, 3.29731669e-20],\n",
       "       [4.69126016e+00, 3.29729787e-20],\n",
       "       [4.69127596e+00, 3.29712924e-20],\n",
       "       [4.69129177e+00, 3.29685605e-20],\n",
       "       [4.69130758e+00, 3.29654679e-20],\n",
       "       [4.69132338e+00, 3.29626367e-20],\n",
       "       [4.69133919e+00, 3.29604268e-20],\n",
       "       [4.69135500e+00, 3.29589075e-20],\n",
       "       [4.69137080e+00, 3.29579552e-20],\n",
       "       [4.69138661e+00, 3.29573819e-20],\n",
       "       [4.69140242e+00, 3.29570223e-20],\n",
       "       [4.69141823e+00, 3.29567665e-20],\n",
       "       [4.69143403e+00, 3.29565546e-20],\n",
       "       [4.69144984e+00, 3.29563590e-20],\n",
       "       [4.69146565e+00, 3.29561687e-20],\n",
       "       [4.69148146e+00, 3.29559799e-20],\n",
       "       [4.69149727e+00, 3.29557915e-20],\n",
       "       [4.69151307e+00, 3.29556032e-20],\n",
       "       [4.69152888e+00, 3.29554149e-20],\n",
       "       [4.69154469e+00, 3.29552267e-20],\n",
       "       [4.69156050e+00, 3.29550384e-20],\n",
       "       [4.69157631e+00, 3.29548501e-20],\n",
       "       [4.69159212e+00, 3.29546619e-20],\n",
       "       [4.69160792e+00, 3.29544736e-20],\n",
       "       [4.69162373e+00, 3.29542853e-20],\n",
       "       [4.69163954e+00, 3.29540971e-20],\n",
       "       [4.69165535e+00, 3.29539088e-20],\n",
       "       [4.69167116e+00, 3.29537205e-20],\n",
       "       [4.69168697e+00, 3.29535323e-20],\n",
       "       [4.69170278e+00, 3.29533440e-20],\n",
       "       [4.69171859e+00, 3.29531557e-20],\n",
       "       [4.69173440e+00, 3.29529675e-20],\n",
       "       [4.69175021e+00, 3.29527792e-20],\n",
       "       [4.69176602e+00, 3.29525909e-20],\n",
       "       [4.69178183e+00, 3.29524027e-20],\n",
       "       [4.69179764e+00, 3.29522144e-20],\n",
       "       [4.69181345e+00, 3.29520261e-20],\n",
       "       [4.69182926e+00, 3.29518379e-20],\n",
       "       [4.69184507e+00, 3.29516496e-20],\n",
       "       [4.69186088e+00, 3.29514613e-20],\n",
       "       [4.69187669e+00, 3.29512731e-20],\n",
       "       [4.69189250e+00, 3.29510848e-20],\n",
       "       [4.69190831e+00, 3.29508965e-20],\n",
       "       [4.69192412e+00, 3.29507083e-20],\n",
       "       [4.69193993e+00, 3.29505200e-20],\n",
       "       [4.69195574e+00, 3.29503318e-20],\n",
       "       [4.69197155e+00, 3.29501435e-20],\n",
       "       [4.69198737e+00, 3.29499552e-20],\n",
       "       [4.69200318e+00, 3.29497670e-20],\n",
       "       [4.69201899e+00, 3.29495787e-20],\n",
       "       [4.69203480e+00, 3.29493905e-20]])"
      ]
     },
     "execution_count": 27,
     "metadata": {},
     "output_type": "execute_result"
    }
   ],
   "source": [
    "data"
   ]
  },
  {
   "cell_type": "code",
   "execution_count": 28,
   "id": "df29a800",
   "metadata": {},
   "outputs": [],
   "source": [
    "lam_vals = data[:,0]\n",
    "flux_vals = data[:,1]"
   ]
  },
  {
   "cell_type": "code",
   "execution_count": 29,
   "id": "43e519c3",
   "metadata": {},
   "outputs": [
    {
     "data": {
      "image/png": "[encoded data removed]",
      "text/plain": [
       "<Figure size 432x288 with 1 Axes>"
      ]
     },
     "metadata": {
      "needs_background": "light"
     },
     "output_type": "display_data"
    }
   ],
   "source": [
    "plt.plot(lam_vals, flux_vals)\n",
    "plt.show()"
   ]
  },
  {
   "cell_type": "code",
   "execution_count": null,
   "id": "ba5e7482",
   "metadata": {},
   "outputs": [],
   "source": []
  }
 ],
 "metadata": {
  "kernelspec": {
   "display_name": "Python 3 (ipykernel)",
   "language": "python",
   "name": "python3"
  },
  "language_info": {
   "codemirror_mode": {
    "name": "ipython",
    "version": 3
   },
   "file_extension": ".py",
   "mimetype": "text/x-python",
   "name": "python",
   "nbconvert_exporter": "python",
   "pygments_lexer": "ipython3",
   "version": "3.10.12"
  }
 },
 "nbformat": 4,
 "nbformat_minor": 5
}
