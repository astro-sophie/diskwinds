{
 "cells": [
  {
   "cell_type": "code",
   "execution_count": 54,
   "id": "46efa2ee",
   "metadata": {},
   "outputs": [],
   "source": [
    "import numpy as np\n",
    "import matplotlib.pyplot as plt"
   ]
  },
  {
   "cell_type": "code",
   "execution_count": 63,
   "id": "009e0352",
   "metadata": {},
   "outputs": [],
   "source": [
    "data = np.loadtxt(\"spectrum.out\", skiprows = 3)"
   ]
  },
  {
   "cell_type": "code",
   "execution_count": 64,
   "id": "31f05db9",
   "metadata": {
    "scrolled": true
   },
   "outputs": [
    {
     "data": {
      "text/plain": [
       "array([[4.68968794e+00, 3.29773508e-20],\n",
       "       [4.68971953e+00, 3.29769742e-20],\n",
       "       [4.68975113e+00, 3.29765976e-20],\n",
       "       [4.68978272e+00, 3.29762210e-20],\n",
       "       [4.68981431e+00, 3.29758444e-20],\n",
       "       [4.68984591e+00, 3.29754678e-20],\n",
       "       [4.68987750e+00, 3.29750912e-20],\n",
       "       [4.68990909e+00, 3.29747145e-20],\n",
       "       [4.68994069e+00, 3.29743379e-20],\n",
       "       [4.68997228e+00, 3.29739613e-20],\n",
       "       [4.69000388e+00, 3.29735847e-20],\n",
       "       [4.69003548e+00, 3.29732081e-20],\n",
       "       [4.69006707e+00, 3.29728315e-20],\n",
       "       [4.69009867e+00, 3.29724549e-20],\n",
       "       [4.69013027e+00, 3.29720783e-20],\n",
       "       [4.69016187e+00, 3.29717017e-20],\n",
       "       [4.69019346e+00, 3.29713251e-20],\n",
       "       [4.69022506e+00, 3.29709486e-20],\n",
       "       [4.69025666e+00, 3.29705720e-20],\n",
       "       [4.69028826e+00, 3.29701954e-20],\n",
       "       [4.69031986e+00, 3.29698188e-20],\n",
       "       [4.69035146e+00, 3.29694422e-20],\n",
       "       [4.69038306e+00, 3.29690656e-20],\n",
       "       [4.69041466e+00, 3.29686890e-20],\n",
       "       [4.69044627e+00, 3.29683124e-20],\n",
       "       [4.69047787e+00, 3.29679359e-20],\n",
       "       [4.69050947e+00, 3.29675593e-20],\n",
       "       [4.69054107e+00, 3.29671827e-20],\n",
       "       [4.69057268e+00, 3.29668061e-20],\n",
       "       [4.69060428e+00, 3.29664295e-20],\n",
       "       [4.69063588e+00, 3.29660530e-20],\n",
       "       [4.69066749e+00, 3.29656764e-20],\n",
       "       [4.69069909e+00, 3.29652998e-20],\n",
       "       [4.69073070e+00, 3.29649232e-20],\n",
       "       [4.69076231e+00, 3.29645467e-20],\n",
       "       [4.69079391e+00, 3.29641701e-20],\n",
       "       [4.69082552e+00, 3.29637935e-20],\n",
       "       [4.69085713e+00, 3.29634169e-20],\n",
       "       [4.69088873e+00, 3.29630404e-20],\n",
       "       [4.69092034e+00, 3.29626638e-20],\n",
       "       [4.69095195e+00, 3.29622872e-20],\n",
       "       [4.69098356e+00, 3.29619107e-20],\n",
       "       [4.69101517e+00, 3.29615342e-20],\n",
       "       [4.69104678e+00, 3.29611589e-20],\n",
       "       [4.69107839e+00, 3.29607996e-20],\n",
       "       [4.69111000e+00, 3.29605728e-20],\n",
       "       [4.69114161e+00, 3.29610081e-20],\n",
       "       [4.69117322e+00, 3.29633267e-20],\n",
       "       [4.69120483e+00, 3.29681457e-20],\n",
       "       [4.69123645e+00, 3.29726801e-20],\n",
       "       [4.69126806e+00, 3.29723036e-20],\n",
       "       [4.69129967e+00, 3.29670160e-20],\n",
       "       [4.69133129e+00, 3.29614439e-20],\n",
       "       [4.69136290e+00, 3.29583723e-20],\n",
       "       [4.69139452e+00, 3.29571838e-20],\n",
       "       [4.69142613e+00, 3.29566575e-20],\n",
       "       [4.69145775e+00, 3.29562637e-20],\n",
       "       [4.69148936e+00, 3.29558859e-20],\n",
       "       [4.69152098e+00, 3.29555093e-20],\n",
       "       [4.69155259e+00, 3.29551328e-20],\n",
       "       [4.69158421e+00, 3.29547562e-20],\n",
       "       [4.69161583e+00, 3.29543797e-20],\n",
       "       [4.69164745e+00, 3.29540031e-20],\n",
       "       [4.69167906e+00, 3.29536266e-20],\n",
       "       [4.69171068e+00, 3.29532501e-20],\n",
       "       [4.69174230e+00, 3.29528735e-20],\n",
       "       [4.69177392e+00, 3.29524970e-20],\n",
       "       [4.69180554e+00, 3.29521205e-20],\n",
       "       [4.69183716e+00, 3.29517440e-20],\n",
       "       [4.69186878e+00, 3.29513674e-20],\n",
       "       [4.69190040e+00, 3.29509909e-20],\n",
       "       [4.69193203e+00, 3.29506144e-20],\n",
       "       [4.69196365e+00, 3.29502379e-20],\n",
       "       [4.69199527e+00, 3.29498613e-20],\n",
       "       [4.69202689e+00, 3.29494848e-20],\n",
       "       [4.69205852e+00, 3.29491083e-20],\n",
       "       [4.69209014e+00, 3.29487318e-20],\n",
       "       [4.69212177e+00, 3.29483553e-20],\n",
       "       [4.69215339e+00, 3.29479787e-20],\n",
       "       [4.69218502e+00, 3.29476022e-20],\n",
       "       [4.69221664e+00, 3.29472257e-20],\n",
       "       [4.69224827e+00, 3.29468492e-20],\n",
       "       [4.69227989e+00, 3.29464727e-20],\n",
       "       [4.69231152e+00, 3.29460962e-20],\n",
       "       [4.69234315e+00, 3.29457197e-20],\n",
       "       [4.69237478e+00, 3.29453432e-20],\n",
       "       [4.69240640e+00, 3.29449667e-20],\n",
       "       [4.69243803e+00, 3.29445901e-20],\n",
       "       [4.69246966e+00, 3.29442136e-20],\n",
       "       [4.69250129e+00, 3.29438371e-20],\n",
       "       [4.69253292e+00, 3.29434606e-20],\n",
       "       [4.69256455e+00, 3.29430841e-20],\n",
       "       [4.69259618e+00, 3.29427076e-20],\n",
       "       [4.69262781e+00, 3.29423311e-20],\n",
       "       [4.69265944e+00, 3.29419546e-20],\n",
       "       [4.69269108e+00, 3.29415782e-20],\n",
       "       [4.69272271e+00, 3.29412017e-20],\n",
       "       [4.69275434e+00, 3.29408252e-20],\n",
       "       [4.69278597e+00, 3.29404487e-20],\n",
       "       [4.69281761e+00, 3.29400722e-20]])"
      ]
     },
     "execution_count": 64,
     "metadata": {},
     "output_type": "execute_result"
    }
   ],
   "source": [
    "data"
   ]
  },
  {
   "cell_type": "code",
   "execution_count": 65,
   "id": "df29a800",
   "metadata": {},
   "outputs": [],
   "source": [
    "lam_vals = data[:,0]\n",
    "flux_vals = data[:,1]"
   ]
  },
  {
   "cell_type": "code",
   "execution_count": 66,
   "id": "43e519c3",
   "metadata": {},
   "outputs": [
    {
     "data": {
      "image/png": "[encoded data removed]",
      "text/plain": [
       "<Figure size 432x288 with 1 Axes>"
      ]
     },
     "metadata": {
      "needs_background": "light"
     },
     "output_type": "display_data"
    }
   ],
   "source": [
    "plt.plot(lam_vals, flux_vals)\n",
    "plt.show()"
   ]
  },
  {
   "cell_type": "code",
   "execution_count": null,
   "id": "ba5e7482",
   "metadata": {},
   "outputs": [],
   "source": []
  }
 ],
 "metadata": {
  "kernelspec": {
   "display_name": "Python 3 (ipykernel)",
   "language": "python",
   "name": "python3"
  },
  "language_info": {
   "codemirror_mode": {
    "name": "ipython",
    "version": 3
   },
   "file_extension": ".py",
   "mimetype": "text/x-python",
   "name": "python",
   "nbconvert_exporter": "python",
   "pygments_lexer": "ipython3",
   "version": "3.10.12"
  }
 },
 "nbformat": 4,
 "nbformat_minor": 5
}
